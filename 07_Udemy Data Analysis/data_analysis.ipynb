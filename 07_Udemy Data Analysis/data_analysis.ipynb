{
 "cells": [
  {
   "cell_type": "markdown",
   "id": "6f6732ee",
   "metadata": {},
   "source": [
    "# Udemy Courses Dataset Analysis\n",
    "\n",
    "This notebook analyzes Udemy's course catalog data including:\n",
    "- Course subjects and titles\n",
    "- Pricing information\n",
    "- Subscription numbers\n",
    "- Publication dates\n",
    "- Difficulty levels"
   ]
  },
  {
   "cell_type": "code",
   "execution_count": 79,
   "id": "139b0e15",
   "metadata": {},
   "outputs": [],
   "source": [
    "import pandas as pd\n",
    "import numpy as np\n",
    "import matplotlib.pyplot as plt\n",
    "\n",
    "# Configure display settings\n",
    "pd.set_option('display.max_columns', None)\n",
    "pd.set_option('display.max_colwidth', 100)\n",
    "pd.set_option('display.float_format', '{:,.0f}'.format)"
   ]
  },
  {
   "cell_type": "markdown",
   "id": "7761b7f9",
   "metadata": {},
   "source": [
    "## Data Loading and Initial Inspection"
   ]
  },
  {
   "cell_type": "code",
   "execution_count": 80,
   "id": "e87abb00",
   "metadata": {},
   "outputs": [
    {
     "name": "stdout",
     "output_type": "stream",
     "text": [
      "Dataset loaded successfully with 3682 courses and 11 features\n"
     ]
    }
   ],
   "source": [
    "df = pd.read_csv(\"Udemy_Dataset.csv\", parse_dates=['published_timestamp'])\n",
    "print(f\"Dataset loaded successfully with {df.shape[0]} courses and {df.shape[1]} features\")"
   ]
  },
  {
   "cell_type": "markdown",
   "id": "27299889",
   "metadata": {},
   "source": [
    "## Data Preparation"
   ]
  },
  {
   "cell_type": "code",
   "execution_count": 81,
   "id": "68bf9b3c",
   "metadata": {},
   "outputs": [
    {
     "name": "stdout",
     "output_type": "stream",
     "text": [
      "\n",
      "=== Subjects Offered ===\n",
      "Udemy offers courses in 4 subjects:\n",
      "['Musical Instruments' 'Business Finance' 'Graphic Design'\n",
      " 'Web Development']\n"
     ]
    }
   ],
   "source": [
    "# 1. Different subjects offered\n",
    "print(\"\\n=== Subjects Offered ===\")\n",
    "subjects = df['subject'].unique()\n",
    "print(f\"Udemy offers courses in {len(subjects)} subjects:\")\n",
    "print(subjects)"
   ]
  },
  {
   "cell_type": "code",
   "execution_count": 82,
   "id": "16d2adae",
   "metadata": {},
   "outputs": [
    {
     "name": "stdout",
     "output_type": "stream",
     "text": [
      "\n",
      "=== Subject Popularity ===\n",
      "'Web Development' has the most courses: 1200\n"
     ]
    },
    {
     "data": {
      "text/html": [
       "<div>\n",
       "<style scoped>\n",
       "    .dataframe tbody tr th:only-of-type {\n",
       "        vertical-align: middle;\n",
       "    }\n",
       "\n",
       "    .dataframe tbody tr th {\n",
       "        vertical-align: top;\n",
       "    }\n",
       "\n",
       "    .dataframe thead th {\n",
       "        text-align: right;\n",
       "    }\n",
       "</style>\n",
       "<table border=\"1\" class=\"dataframe\">\n",
       "  <thead>\n",
       "    <tr style=\"text-align: right;\">\n",
       "      <th></th>\n",
       "      <th>Number of Courses</th>\n",
       "    </tr>\n",
       "    <tr>\n",
       "      <th>subject</th>\n",
       "      <th></th>\n",
       "    </tr>\n",
       "  </thead>\n",
       "  <tbody>\n",
       "    <tr>\n",
       "      <th>Web Development</th>\n",
       "      <td>1200</td>\n",
       "    </tr>\n",
       "    <tr>\n",
       "      <th>Business Finance</th>\n",
       "      <td>1199</td>\n",
       "    </tr>\n",
       "    <tr>\n",
       "      <th>Musical Instruments</th>\n",
       "      <td>680</td>\n",
       "    </tr>\n",
       "    <tr>\n",
       "      <th>Graphic Design</th>\n",
       "      <td>603</td>\n",
       "    </tr>\n",
       "  </tbody>\n",
       "</table>\n",
       "</div>"
      ],
      "text/plain": [
       "                     Number of Courses\n",
       "subject                               \n",
       "Web Development                   1200\n",
       "Business Finance                  1199\n",
       "Musical Instruments                680\n",
       "Graphic Design                     603"
      ]
     },
     "metadata": {},
     "output_type": "display_data"
    }
   ],
   "source": [
    "# 2. Subject with most courses\n",
    "print(\"\\n=== Subject Popularity ===\")\n",
    "subject_counts = df['subject'].value_counts()\n",
    "max_subject = subject_counts.idxmax()\n",
    "print(f\"'{max_subject}' has the most courses: {subject_counts.max()}\")\n",
    "display(subject_counts.to_frame('Number of Courses'))"
   ]
  },
  {
   "cell_type": "code",
   "execution_count": 83,
   "id": "aa31f844",
   "metadata": {},
   "outputs": [
    {
     "name": "stdout",
     "output_type": "stream",
     "text": [
      "\n",
      "=== Pricing Analysis ===\n",
      "Free courses: 8.4%\n",
      "Paid courses: 91.6%\n"
     ]
    }
   ],
   "source": [
    "# 3 & 4. Free vs Paid courses\n",
    "print(\"\\n=== Pricing Analysis ===\")\n",
    "pricing_dist = df['is_paid'].value_counts(normalize=True)\n",
    "print(f\"Free courses: {pricing_dist[False]:.1%}\")\n",
    "print(f\"Paid courses: {pricing_dist[True]:.1%}\")"
   ]
  },
  {
   "cell_type": "code",
   "execution_count": 84,
   "id": "34825a1c",
   "metadata": {},
   "outputs": [
    {
     "name": "stdout",
     "output_type": "stream",
     "text": [
      "\n",
      "=== Top 5 Selling Courses ===\n"
     ]
    },
    {
     "data": {
      "text/html": [
       "<div>\n",
       "<style scoped>\n",
       "    .dataframe tbody tr th:only-of-type {\n",
       "        vertical-align: middle;\n",
       "    }\n",
       "\n",
       "    .dataframe tbody tr th {\n",
       "        vertical-align: top;\n",
       "    }\n",
       "\n",
       "    .dataframe thead th {\n",
       "        text-align: right;\n",
       "    }\n",
       "</style>\n",
       "<table border=\"1\" class=\"dataframe\">\n",
       "  <thead>\n",
       "    <tr style=\"text-align: right;\">\n",
       "      <th></th>\n",
       "      <th>course_title</th>\n",
       "      <th>subject</th>\n",
       "      <th>num_subscribers</th>\n",
       "    </tr>\n",
       "  </thead>\n",
       "  <tbody>\n",
       "    <tr>\n",
       "      <th>2230</th>\n",
       "      <td>Learn HTML5 Programming From Scratch</td>\n",
       "      <td>Web Development</td>\n",
       "      <td>268923</td>\n",
       "    </tr>\n",
       "    <tr>\n",
       "      <th>776</th>\n",
       "      <td>Coding for Entrepreneurs Basic</td>\n",
       "      <td>Web Development</td>\n",
       "      <td>161029</td>\n",
       "    </tr>\n",
       "    <tr>\n",
       "      <th>3385</th>\n",
       "      <td>The Web Developer Bootcamp</td>\n",
       "      <td>Web Development</td>\n",
       "      <td>121584</td>\n",
       "    </tr>\n",
       "    <tr>\n",
       "      <th>640</th>\n",
       "      <td>Build Your First Website in 1 Week with HTML5 and CSS3</td>\n",
       "      <td>Web Development</td>\n",
       "      <td>120291</td>\n",
       "    </tr>\n",
       "    <tr>\n",
       "      <th>3316</th>\n",
       "      <td>The Complete Web Developer Course 2.0</td>\n",
       "      <td>Web Development</td>\n",
       "      <td>114512</td>\n",
       "    </tr>\n",
       "  </tbody>\n",
       "</table>\n",
       "</div>"
      ],
      "text/plain": [
       "                                                course_title          subject  \\\n",
       "2230                    Learn HTML5 Programming From Scratch  Web Development   \n",
       "776                           Coding for Entrepreneurs Basic  Web Development   \n",
       "3385                              The Web Developer Bootcamp  Web Development   \n",
       "640   Build Your First Website in 1 Week with HTML5 and CSS3  Web Development   \n",
       "3316                   The Complete Web Developer Course 2.0  Web Development   \n",
       "\n",
       "      num_subscribers  \n",
       "2230           268923  \n",
       "776            161029  \n",
       "3385           121584  \n",
       "640            120291  \n",
       "3316           114512  "
      ]
     },
     "metadata": {},
     "output_type": "display_data"
    }
   ],
   "source": [
    "# 5 & 6. Top and least selling courses\n",
    "print(\"\\n=== Top 5 Selling Courses ===\")\n",
    "display(df.nlargest(5, 'num_subscribers')[['course_title', 'subject', 'num_subscribers']])"
   ]
  },
  {
   "cell_type": "code",
   "execution_count": 85,
   "id": "9ccb416f",
   "metadata": {},
   "outputs": [
    {
     "name": "stdout",
     "output_type": "stream",
     "text": [
      "\n",
      "=== 5 Least Selling Courses ===\n"
     ]
    },
    {
     "data": {
      "text/html": [
       "<div>\n",
       "<style scoped>\n",
       "    .dataframe tbody tr th:only-of-type {\n",
       "        vertical-align: middle;\n",
       "    }\n",
       "\n",
       "    .dataframe tbody tr th {\n",
       "        vertical-align: top;\n",
       "    }\n",
       "\n",
       "    .dataframe thead th {\n",
       "        text-align: right;\n",
       "    }\n",
       "</style>\n",
       "<table border=\"1\" class=\"dataframe\">\n",
       "  <thead>\n",
       "    <tr style=\"text-align: right;\">\n",
       "      <th></th>\n",
       "      <th>course_title</th>\n",
       "      <th>subject</th>\n",
       "      <th>num_subscribers</th>\n",
       "    </tr>\n",
       "  </thead>\n",
       "  <tbody>\n",
       "    <tr>\n",
       "      <th>37</th>\n",
       "      <td>4 Week Rhythm Mastery</td>\n",
       "      <td>Musical Instruments</td>\n",
       "      <td>0</td>\n",
       "    </tr>\n",
       "    <tr>\n",
       "      <th>44</th>\n",
       "      <td>60 Minutes to Fundamental Accounting Skills</td>\n",
       "      <td>Business Finance</td>\n",
       "      <td>0</td>\n",
       "    </tr>\n",
       "    <tr>\n",
       "      <th>91</th>\n",
       "      <td>ABRSM Grade III Piano Class - Handel Sonatina in G 2017-2018</td>\n",
       "      <td>Musical Instruments</td>\n",
       "      <td>0</td>\n",
       "    </tr>\n",
       "    <tr>\n",
       "      <th>98</th>\n",
       "      <td>Accounting - The 6 most important rules you must learn</td>\n",
       "      <td>Business Finance</td>\n",
       "      <td>0</td>\n",
       "    </tr>\n",
       "    <tr>\n",
       "      <th>185</th>\n",
       "      <td>Adobe Photoshop pentru Social Media</td>\n",
       "      <td>Graphic Design</td>\n",
       "      <td>0</td>\n",
       "    </tr>\n",
       "  </tbody>\n",
       "</table>\n",
       "</div>"
      ],
      "text/plain": [
       "                                                     course_title  \\\n",
       "37                                          4 Week Rhythm Mastery   \n",
       "44                    60 Minutes to Fundamental Accounting Skills   \n",
       "91   ABRSM Grade III Piano Class - Handel Sonatina in G 2017-2018   \n",
       "98         Accounting - The 6 most important rules you must learn   \n",
       "185                           Adobe Photoshop pentru Social Media   \n",
       "\n",
       "                 subject  num_subscribers  \n",
       "37   Musical Instruments                0  \n",
       "44      Business Finance                0  \n",
       "91   Musical Instruments                0  \n",
       "98      Business Finance                0  \n",
       "185       Graphic Design                0  "
      ]
     },
     "metadata": {},
     "output_type": "display_data"
    }
   ],
   "source": [
    "print(\"\\n=== 5 Least Selling Courses ===\")\n",
    "display(df.nsmallest(5, 'num_subscribers')[['course_title', 'subject', 'num_subscribers']])"
   ]
  },
  {
   "cell_type": "code",
   "execution_count": 86,
   "id": "1a320130",
   "metadata": {},
   "outputs": [
    {
     "name": "stdout",
     "output_type": "stream",
     "text": [
      "\n",
      "=== Affordable Graphic Design Courses (<$100) ===\n",
      "Found 450 courses priced under $100\n"
     ]
    },
    {
     "data": {
      "text/html": [
       "<div>\n",
       "<style scoped>\n",
       "    .dataframe tbody tr th:only-of-type {\n",
       "        vertical-align: middle;\n",
       "    }\n",
       "\n",
       "    .dataframe tbody tr th {\n",
       "        vertical-align: top;\n",
       "    }\n",
       "\n",
       "    .dataframe thead th {\n",
       "        text-align: right;\n",
       "    }\n",
       "</style>\n",
       "<table border=\"1\" class=\"dataframe\">\n",
       "  <thead>\n",
       "    <tr style=\"text-align: right;\">\n",
       "      <th></th>\n",
       "      <th>course_title</th>\n",
       "      <th>price</th>\n",
       "      <th>num_subscribers</th>\n",
       "    </tr>\n",
       "  </thead>\n",
       "  <tbody>\n",
       "    <tr>\n",
       "      <th>2304</th>\n",
       "      <td>Learn Real Graphic Design</td>\n",
       "      <td>20</td>\n",
       "      <td>297</td>\n",
       "    </tr>\n",
       "    <tr>\n",
       "      <th>2483</th>\n",
       "      <td>Low Poly Portrait Illustration</td>\n",
       "      <td>20</td>\n",
       "      <td>4</td>\n",
       "    </tr>\n",
       "    <tr>\n",
       "      <th>1037</th>\n",
       "      <td>Design while you learn InDesign CC</td>\n",
       "      <td>20</td>\n",
       "      <td>1116</td>\n",
       "    </tr>\n",
       "    <tr>\n",
       "      <th>2728</th>\n",
       "      <td>Photoshop JumpStart</td>\n",
       "      <td>20</td>\n",
       "      <td>66</td>\n",
       "    </tr>\n",
       "    <tr>\n",
       "      <th>2484</th>\n",
       "      <td>Magazine Design: Start your own magazine in less than 24hrs</td>\n",
       "      <td>20</td>\n",
       "      <td>802</td>\n",
       "    </tr>\n",
       "    <tr>\n",
       "      <th>...</th>\n",
       "      <td>...</td>\n",
       "      <td>...</td>\n",
       "      <td>...</td>\n",
       "    </tr>\n",
       "    <tr>\n",
       "      <th>1027</th>\n",
       "      <td>Design &amp; Create Text Logos in Adobe Photoshop CS5</td>\n",
       "      <td>95</td>\n",
       "      <td>2035</td>\n",
       "    </tr>\n",
       "    <tr>\n",
       "      <th>1033</th>\n",
       "      <td>Design bestselling T-shirts from Beginner to Expert.</td>\n",
       "      <td>95</td>\n",
       "      <td>798</td>\n",
       "    </tr>\n",
       "    <tr>\n",
       "      <th>3349</th>\n",
       "      <td>The Logo Design Process From Start To Finish</td>\n",
       "      <td>95</td>\n",
       "      <td>2361</td>\n",
       "    </tr>\n",
       "    <tr>\n",
       "      <th>2474</th>\n",
       "      <td>LOGO DESIGN IN POWERPOINT</td>\n",
       "      <td>95</td>\n",
       "      <td>1046</td>\n",
       "    </tr>\n",
       "    <tr>\n",
       "      <th>2715</th>\n",
       "      <td>Photoshop CC MasterClass</td>\n",
       "      <td>95</td>\n",
       "      <td>505</td>\n",
       "    </tr>\n",
       "  </tbody>\n",
       "</table>\n",
       "<p>450 rows × 3 columns</p>\n",
       "</div>"
      ],
      "text/plain": [
       "                                                     course_title  price  \\\n",
       "2304                                    Learn Real Graphic Design     20   \n",
       "2483                               Low Poly Portrait Illustration     20   \n",
       "1037                           Design while you learn InDesign CC     20   \n",
       "2728                                          Photoshop JumpStart     20   \n",
       "2484  Magazine Design: Start your own magazine in less than 24hrs     20   \n",
       "...                                                           ...    ...   \n",
       "1027            Design & Create Text Logos in Adobe Photoshop CS5     95   \n",
       "1033         Design bestselling T-shirts from Beginner to Expert.     95   \n",
       "3349                 The Logo Design Process From Start To Finish     95   \n",
       "2474                                    LOGO DESIGN IN POWERPOINT     95   \n",
       "2715                                     Photoshop CC MasterClass     95   \n",
       "\n",
       "      num_subscribers  \n",
       "2304              297  \n",
       "2483                4  \n",
       "1037             1116  \n",
       "2728               66  \n",
       "2484              802  \n",
       "...               ...  \n",
       "1027             2035  \n",
       "1033              798  \n",
       "3349             2361  \n",
       "2474             1046  \n",
       "2715              505  \n",
       "\n",
       "[450 rows x 3 columns]"
      ]
     },
     "metadata": {},
     "output_type": "display_data"
    }
   ],
   "source": [
    "df['price'] = pd.to_numeric(df['price'], errors='coerce')\n",
    "\n",
    "# 7. Graphic Design courses under $100\n",
    "print(\"\\n=== Affordable Graphic Design Courses (<$100) ===\")\n",
    "graphic_design = df[(df['subject'] == 'Graphic Design') & (df['price'] < 100)]\n",
    "print(f\"Found {len(graphic_design)} courses priced under $100\")\n",
    "display(graphic_design[['course_title', 'price', 'num_subscribers']].sort_values('price'))"
   ]
  },
  {
   "cell_type": "code",
   "execution_count": 87,
   "id": "50d520e2",
   "metadata": {},
   "outputs": [
    {
     "name": "stdout",
     "output_type": "stream",
     "text": [
      "\n",
      "=== Python-Related Courses ===\n",
      "Found 29 Python-related courses\n"
     ]
    },
    {
     "data": {
      "text/html": [
       "<div>\n",
       "<style scoped>\n",
       "    .dataframe tbody tr th:only-of-type {\n",
       "        vertical-align: middle;\n",
       "    }\n",
       "\n",
       "    .dataframe tbody tr th {\n",
       "        vertical-align: top;\n",
       "    }\n",
       "\n",
       "    .dataframe thead th {\n",
       "        text-align: right;\n",
       "    }\n",
       "</style>\n",
       "<table border=\"1\" class=\"dataframe\">\n",
       "  <thead>\n",
       "    <tr style=\"text-align: right;\">\n",
       "      <th></th>\n",
       "      <th>course_title</th>\n",
       "      <th>subject</th>\n",
       "      <th>num_subscribers</th>\n",
       "    </tr>\n",
       "  </thead>\n",
       "  <tbody>\n",
       "    <tr>\n",
       "      <th>3573</th>\n",
       "      <td>Web Programming with Python</td>\n",
       "      <td>Web Development</td>\n",
       "      <td>35267</td>\n",
       "    </tr>\n",
       "    <tr>\n",
       "      <th>777</th>\n",
       "      <td>Coding for Entrepreneurs: Learn Python, Django, and More.</td>\n",
       "      <td>Web Development</td>\n",
       "      <td>23412</td>\n",
       "    </tr>\n",
       "    <tr>\n",
       "      <th>2294</th>\n",
       "      <td>Learn Python and Django: Payment Processing</td>\n",
       "      <td>Web Development</td>\n",
       "      <td>17714</td>\n",
       "    </tr>\n",
       "    <tr>\n",
       "      <th>2955</th>\n",
       "      <td>Python and Django Full Stack Web Developer Bootcamp</td>\n",
       "      <td>Web Development</td>\n",
       "      <td>11832</td>\n",
       "    </tr>\n",
       "    <tr>\n",
       "      <th>1400</th>\n",
       "      <td>Fun and creative web engineering with Python and Web2py</td>\n",
       "      <td>Web Development</td>\n",
       "      <td>10917</td>\n",
       "    </tr>\n",
       "    <tr>\n",
       "      <th>3272</th>\n",
       "      <td>The Complete Ethical Hacking Course 2.0: Python &amp; Kali Linux</td>\n",
       "      <td>Web Development</td>\n",
       "      <td>7827</td>\n",
       "    </tr>\n",
       "    <tr>\n",
       "      <th>814</th>\n",
       "      <td>Complete Python Web Course: Build 8 Python Web Apps</td>\n",
       "      <td>Web Development</td>\n",
       "      <td>7489</td>\n",
       "    </tr>\n",
       "    <tr>\n",
       "      <th>3460</th>\n",
       "      <td>Try Django 1.9 | Build a Blog and Learn Python's #1 Library</td>\n",
       "      <td>Web Development</td>\n",
       "      <td>7407</td>\n",
       "    </tr>\n",
       "    <tr>\n",
       "      <th>2956</th>\n",
       "      <td>Python for Beginners: Python Programming Language | Tutorial</td>\n",
       "      <td>Web Development</td>\n",
       "      <td>6153</td>\n",
       "    </tr>\n",
       "    <tr>\n",
       "      <th>3013</th>\n",
       "      <td>REST APIs with Flask and Python</td>\n",
       "      <td>Web Development</td>\n",
       "      <td>5151</td>\n",
       "    </tr>\n",
       "    <tr>\n",
       "      <th>2959</th>\n",
       "      <td>Python Programming: Create an Digital Marketplace in Django</td>\n",
       "      <td>Web Development</td>\n",
       "      <td>4198</td>\n",
       "    </tr>\n",
       "    <tr>\n",
       "      <th>2957</th>\n",
       "      <td>Python for Finance: Investment Fundamentals &amp; Data Analytics</td>\n",
       "      <td>Business Finance</td>\n",
       "      <td>3811</td>\n",
       "    </tr>\n",
       "    <tr>\n",
       "      <th>2906</th>\n",
       "      <td>Professional Python Web Development Using Flask</td>\n",
       "      <td>Web Development</td>\n",
       "      <td>3420</td>\n",
       "    </tr>\n",
       "    <tr>\n",
       "      <th>842</th>\n",
       "      <td>Core: A Web App Reference Guide for Django, Python, and More</td>\n",
       "      <td>Web Development</td>\n",
       "      <td>2497</td>\n",
       "    </tr>\n",
       "    <tr>\n",
       "      <th>2929</th>\n",
       "      <td>Projects in Django and Python</td>\n",
       "      <td>Web Development</td>\n",
       "      <td>1764</td>\n",
       "    </tr>\n",
       "    <tr>\n",
       "      <th>2295</th>\n",
       "      <td>Learn Python Django - A Hands-On Course</td>\n",
       "      <td>Web Development</td>\n",
       "      <td>1339</td>\n",
       "    </tr>\n",
       "    <tr>\n",
       "      <th>216</th>\n",
       "      <td>Advanced Scalable Python Web Development Using Flask</td>\n",
       "      <td>Web Development</td>\n",
       "      <td>1299</td>\n",
       "    </tr>\n",
       "    <tr>\n",
       "      <th>2952</th>\n",
       "      <td>Python Algo Stock Trading: Automate Your Trading!</td>\n",
       "      <td>Business Finance</td>\n",
       "      <td>1165</td>\n",
       "    </tr>\n",
       "    <tr>\n",
       "      <th>2341</th>\n",
       "      <td>Learn to code in Python and learn Adobe Photoshop today!</td>\n",
       "      <td>Graphic Design</td>\n",
       "      <td>1132</td>\n",
       "    </tr>\n",
       "    <tr>\n",
       "      <th>2960</th>\n",
       "      <td>Python Web Programming</td>\n",
       "      <td>Web Development</td>\n",
       "      <td>1020</td>\n",
       "    </tr>\n",
       "    <tr>\n",
       "      <th>3574</th>\n",
       "      <td>Web Scraping with Python, Ruby &amp; import. io</td>\n",
       "      <td>Web Development</td>\n",
       "      <td>973</td>\n",
       "    </tr>\n",
       "    <tr>\n",
       "      <th>2958</th>\n",
       "      <td>Python for Trading &amp; Investing</td>\n",
       "      <td>Business Finance</td>\n",
       "      <td>638</td>\n",
       "    </tr>\n",
       "    <tr>\n",
       "      <th>2908</th>\n",
       "      <td>Professional RESTful API Design using Python Flask</td>\n",
       "      <td>Web Development</td>\n",
       "      <td>578</td>\n",
       "    </tr>\n",
       "    <tr>\n",
       "      <th>2953</th>\n",
       "      <td>Python Algo Trading: FX Trading with Oanda</td>\n",
       "      <td>Business Finance</td>\n",
       "      <td>453</td>\n",
       "    </tr>\n",
       "    <tr>\n",
       "      <th>3154</th>\n",
       "      <td>Stock Technical Analysis with Python</td>\n",
       "      <td>Business Finance</td>\n",
       "      <td>409</td>\n",
       "    </tr>\n",
       "    <tr>\n",
       "      <th>2954</th>\n",
       "      <td>Python Algo Trading: Sentiment Trading with News</td>\n",
       "      <td>Business Finance</td>\n",
       "      <td>294</td>\n",
       "    </tr>\n",
       "    <tr>\n",
       "      <th>2962</th>\n",
       "      <td>Quantitative Trading Analysis with Python</td>\n",
       "      <td>Business Finance</td>\n",
       "      <td>256</td>\n",
       "    </tr>\n",
       "    <tr>\n",
       "      <th>1969</th>\n",
       "      <td>Investment Portfolio Analysis with Python</td>\n",
       "      <td>Business Finance</td>\n",
       "      <td>209</td>\n",
       "    </tr>\n",
       "    <tr>\n",
       "      <th>1932</th>\n",
       "      <td>Introduction to QGIS Python Programming</td>\n",
       "      <td>Web Development</td>\n",
       "      <td>197</td>\n",
       "    </tr>\n",
       "  </tbody>\n",
       "</table>\n",
       "</div>"
      ],
      "text/plain": [
       "                                                      course_title  \\\n",
       "3573                                   Web Programming with Python   \n",
       "777      Coding for Entrepreneurs: Learn Python, Django, and More.   \n",
       "2294                   Learn Python and Django: Payment Processing   \n",
       "2955           Python and Django Full Stack Web Developer Bootcamp   \n",
       "1400       Fun and creative web engineering with Python and Web2py   \n",
       "3272  The Complete Ethical Hacking Course 2.0: Python & Kali Linux   \n",
       "814            Complete Python Web Course: Build 8 Python Web Apps   \n",
       "3460   Try Django 1.9 | Build a Blog and Learn Python's #1 Library   \n",
       "2956  Python for Beginners: Python Programming Language | Tutorial   \n",
       "3013                               REST APIs with Flask and Python   \n",
       "2959   Python Programming: Create an Digital Marketplace in Django   \n",
       "2957  Python for Finance: Investment Fundamentals & Data Analytics   \n",
       "2906               Professional Python Web Development Using Flask   \n",
       "842   Core: A Web App Reference Guide for Django, Python, and More   \n",
       "2929                                 Projects in Django and Python   \n",
       "2295                       Learn Python Django - A Hands-On Course   \n",
       "216           Advanced Scalable Python Web Development Using Flask   \n",
       "2952             Python Algo Stock Trading: Automate Your Trading!   \n",
       "2341      Learn to code in Python and learn Adobe Photoshop today!   \n",
       "2960                                        Python Web Programming   \n",
       "3574                   Web Scraping with Python, Ruby & import. io   \n",
       "2958                                Python for Trading & Investing   \n",
       "2908            Professional RESTful API Design using Python Flask   \n",
       "2953                    Python Algo Trading: FX Trading with Oanda   \n",
       "3154                          Stock Technical Analysis with Python   \n",
       "2954              Python Algo Trading: Sentiment Trading with News   \n",
       "2962                     Quantitative Trading Analysis with Python   \n",
       "1969                     Investment Portfolio Analysis with Python   \n",
       "1932                       Introduction to QGIS Python Programming   \n",
       "\n",
       "               subject  num_subscribers  \n",
       "3573   Web Development            35267  \n",
       "777    Web Development            23412  \n",
       "2294   Web Development            17714  \n",
       "2955   Web Development            11832  \n",
       "1400   Web Development            10917  \n",
       "3272   Web Development             7827  \n",
       "814    Web Development             7489  \n",
       "3460   Web Development             7407  \n",
       "2956   Web Development             6153  \n",
       "3013   Web Development             5151  \n",
       "2959   Web Development             4198  \n",
       "2957  Business Finance             3811  \n",
       "2906   Web Development             3420  \n",
       "842    Web Development             2497  \n",
       "2929   Web Development             1764  \n",
       "2295   Web Development             1339  \n",
       "216    Web Development             1299  \n",
       "2952  Business Finance             1165  \n",
       "2341    Graphic Design             1132  \n",
       "2960   Web Development             1020  \n",
       "3574   Web Development              973  \n",
       "2958  Business Finance              638  \n",
       "2908   Web Development              578  \n",
       "2953  Business Finance              453  \n",
       "3154  Business Finance              409  \n",
       "2954  Business Finance              294  \n",
       "2962  Business Finance              256  \n",
       "1969  Business Finance              209  \n",
       "1932   Web Development              197  "
      ]
     },
     "metadata": {},
     "output_type": "display_data"
    }
   ],
   "source": [
    "# 8. Python-related courses\n",
    "print(\"\\n=== Python-Related Courses ===\")\n",
    "python_courses = df[df['course_title'].str.contains('Python', case=False)]\n",
    "print(f\"Found {len(python_courses)} Python-related courses\")\n",
    "display(python_courses[['course_title', 'subject', 'num_subscribers']].sort_values('num_subscribers', ascending=False))"
   ]
  },
  {
   "cell_type": "code",
   "execution_count": 88,
   "id": "1dee7cb6",
   "metadata": {},
   "outputs": [
    {
     "name": "stdout",
     "output_type": "stream",
     "text": [
      "\n",
      "=== Courses Published in 2015 ===\n",
      "Found 0 courses published in 2015\n"
     ]
    },
    {
     "data": {
      "text/html": [
       "<div>\n",
       "<style scoped>\n",
       "    .dataframe tbody tr th:only-of-type {\n",
       "        vertical-align: middle;\n",
       "    }\n",
       "\n",
       "    .dataframe tbody tr th {\n",
       "        vertical-align: top;\n",
       "    }\n",
       "\n",
       "    .dataframe thead th {\n",
       "        text-align: right;\n",
       "    }\n",
       "</style>\n",
       "<table border=\"1\" class=\"dataframe\">\n",
       "  <thead>\n",
       "    <tr style=\"text-align: right;\">\n",
       "      <th></th>\n",
       "      <th>course_title</th>\n",
       "      <th>subject</th>\n",
       "      <th>num_subscribers</th>\n",
       "    </tr>\n",
       "  </thead>\n",
       "  <tbody>\n",
       "  </tbody>\n",
       "</table>\n",
       "</div>"
      ],
      "text/plain": [
       "Empty DataFrame\n",
       "Columns: [course_title, subject, num_subscribers]\n",
       "Index: []"
      ]
     },
     "metadata": {},
     "output_type": "display_data"
    }
   ],
   "source": [
    "# 9. Courses published in 2015\n",
    "print(\"\\n=== Courses Published in 2015 ===\")\n",
    "courses_2015 = df[df['published_timestamp'] == 2015]\n",
    "print(f\"Found {len(courses_2015)} courses published in 2015\")\n",
    "display(courses_2015[['course_title', 'subject', 'num_subscribers']].sort_values('num_subscribers', ascending=False))"
   ]
  },
  {
   "cell_type": "code",
   "execution_count": 89,
   "id": "49557319",
   "metadata": {},
   "outputs": [
    {
     "name": "stdout",
     "output_type": "stream",
     "text": [
      "\n",
      "=== Maximum Subscribers by Course Level ===\n"
     ]
    },
    {
     "data": {
      "text/html": [
       "<div>\n",
       "<style scoped>\n",
       "    .dataframe tbody tr th:only-of-type {\n",
       "        vertical-align: middle;\n",
       "    }\n",
       "\n",
       "    .dataframe tbody tr th {\n",
       "        vertical-align: top;\n",
       "    }\n",
       "\n",
       "    .dataframe thead th {\n",
       "        text-align: right;\n",
       "    }\n",
       "</style>\n",
       "<table border=\"1\" class=\"dataframe\">\n",
       "  <thead>\n",
       "    <tr style=\"text-align: right;\">\n",
       "      <th></th>\n",
       "      <th>Max Subscribers</th>\n",
       "      <th>Average Subscribers</th>\n",
       "      <th>Course Count</th>\n",
       "    </tr>\n",
       "    <tr>\n",
       "      <th>level</th>\n",
       "      <th></th>\n",
       "      <th></th>\n",
       "      <th></th>\n",
       "    </tr>\n",
       "  </thead>\n",
       "  <tbody>\n",
       "    <tr>\n",
       "      <th>All Levels</th>\n",
       "      <td>268923</td>\n",
       "      <td>3,580</td>\n",
       "      <td>1932</td>\n",
       "    </tr>\n",
       "    <tr>\n",
       "      <th>Beginner Level</th>\n",
       "      <td>161029</td>\n",
       "      <td>3,189</td>\n",
       "      <td>1271</td>\n",
       "    </tr>\n",
       "    <tr>\n",
       "      <th>Intermediate Level</th>\n",
       "      <td>29167</td>\n",
       "      <td>1,762</td>\n",
       "      <td>421</td>\n",
       "    </tr>\n",
       "    <tr>\n",
       "      <th>Expert Level</th>\n",
       "      <td>5172</td>\n",
       "      <td>865</td>\n",
       "      <td>58</td>\n",
       "    </tr>\n",
       "  </tbody>\n",
       "</table>\n",
       "</div>"
      ],
      "text/plain": [
       "                    Max Subscribers  Average Subscribers  Course Count\n",
       "level                                                                 \n",
       "All Levels                   268923                3,580          1932\n",
       "Beginner Level               161029                3,189          1271\n",
       "Intermediate Level            29167                1,762           421\n",
       "Expert Level                   5172                  865            58"
      ]
     },
     "metadata": {},
     "output_type": "display_data"
    }
   ],
   "source": [
    "# 10. Max subscribers by course level\n",
    "print(\"\\n=== Maximum Subscribers by Course Level ===\")\n",
    "level_stats = df.groupby('level')['num_subscribers'].agg(['max', 'mean', 'count'])\n",
    "level_stats.columns = ['Max Subscribers', 'Average Subscribers', 'Course Count']\n",
    "display(level_stats.sort_values('Max Subscribers', ascending=False))"
   ]
  },
  {
   "cell_type": "markdown",
   "id": "650208c3",
   "metadata": {},
   "source": [
    "## Advanced Analyses"
   ]
  },
  {
   "cell_type": "code",
   "execution_count": 90,
   "id": "8b167db2",
   "metadata": {},
   "outputs": [
    {
     "name": "stdout",
     "output_type": "stream",
     "text": [
      "\n",
      "=== Price Distribution ===\n"
     ]
    },
    {
     "data": {
      "text/html": [
       "<style type=\"text/css\">\n",
       "</style>\n",
       "<table id=\"T_3f6f7\">\n",
       "  <thead>\n",
       "    <tr>\n",
       "      <th class=\"blank level0\" >&nbsp;</th>\n",
       "      <th id=\"T_3f6f7_level0_col0\" class=\"col_heading level0 col0\" >min</th>\n",
       "      <th id=\"T_3f6f7_level0_col1\" class=\"col_heading level0 col1\" >median</th>\n",
       "      <th id=\"T_3f6f7_level0_col2\" class=\"col_heading level0 col2\" >max</th>\n",
       "    </tr>\n",
       "    <tr>\n",
       "      <th class=\"index_name level0\" >subject</th>\n",
       "      <th class=\"blank col0\" >&nbsp;</th>\n",
       "      <th class=\"blank col1\" >&nbsp;</th>\n",
       "      <th class=\"blank col2\" >&nbsp;</th>\n",
       "    </tr>\n",
       "  </thead>\n",
       "  <tbody>\n",
       "    <tr>\n",
       "      <th id=\"T_3f6f7_level0_row0\" class=\"row_heading level0 row0\" >Business Finance</th>\n",
       "      <td id=\"T_3f6f7_row0_col0\" class=\"data row0 col0\" >$20.00</td>\n",
       "      <td id=\"T_3f6f7_row0_col1\" class=\"data row0 col1\" >$50.00</td>\n",
       "      <td id=\"T_3f6f7_row0_col2\" class=\"data row0 col2\" >$200.00</td>\n",
       "    </tr>\n",
       "    <tr>\n",
       "      <th id=\"T_3f6f7_level0_row1\" class=\"row_heading level0 row1\" >Graphic Design</th>\n",
       "      <td id=\"T_3f6f7_row1_col0\" class=\"data row1 col0\" >$20.00</td>\n",
       "      <td id=\"T_3f6f7_row1_col1\" class=\"data row1 col1\" >$35.00</td>\n",
       "      <td id=\"T_3f6f7_row1_col2\" class=\"data row1 col2\" >$200.00</td>\n",
       "    </tr>\n",
       "    <tr>\n",
       "      <th id=\"T_3f6f7_level0_row2\" class=\"row_heading level0 row2\" >Musical Instruments</th>\n",
       "      <td id=\"T_3f6f7_row2_col0\" class=\"data row2 col0\" >$20.00</td>\n",
       "      <td id=\"T_3f6f7_row2_col1\" class=\"data row2 col1\" >$45.00</td>\n",
       "      <td id=\"T_3f6f7_row2_col2\" class=\"data row2 col2\" >$200.00</td>\n",
       "    </tr>\n",
       "    <tr>\n",
       "      <th id=\"T_3f6f7_level0_row3\" class=\"row_heading level0 row3\" >Web Development</th>\n",
       "      <td id=\"T_3f6f7_row3_col0\" class=\"data row3 col0\" >$20.00</td>\n",
       "      <td id=\"T_3f6f7_row3_col1\" class=\"data row3 col1\" >$60.00</td>\n",
       "      <td id=\"T_3f6f7_row3_col2\" class=\"data row3 col2\" >$200.00</td>\n",
       "    </tr>\n",
       "  </tbody>\n",
       "</table>\n"
      ],
      "text/plain": [
       "<pandas.io.formats.style.Styler at 0x215be492ea0>"
      ]
     },
     "metadata": {},
     "output_type": "display_data"
    }
   ],
   "source": [
    "# Price distribution analysis\n",
    "print(\"\\n=== Price Distribution ===\")\n",
    "price_stats = df[df['is_paid']].groupby('subject')['price'].agg(['min', 'median', 'max'])\n",
    "display(price_stats.style.format('${:.2f}'))"
   ]
  },
  {
   "cell_type": "code",
   "execution_count": 91,
   "id": "e9e4c439",
   "metadata": {},
   "outputs": [
    {
     "name": "stdout",
     "output_type": "stream",
     "text": [
      "\n",
      "=== Publication Trends ===\n"
     ]
    },
    {
     "data": {
      "image/png": "[encoded data removed]",
      "text/plain": [
       "<Figure size 640x480 with 1 Axes>"
      ]
     },
     "metadata": {},
     "output_type": "display_data"
    }
   ],
   "source": [
    "# Publication trends over time\n",
    "print(\"\\n=== Publication Trends ===\")\n",
    "publication_trends = df.groupby('published_timestamp').size()\n",
    "publication_trends.plot(kind='bar', title='Courses Published by Year')\n",
    "plt.show()"
   ]
  },
  {
   "cell_type": "code",
   "execution_count": 92,
   "id": "f72dac7a",
   "metadata": {},
   "outputs": [
    {
     "name": "stdout",
     "output_type": "stream",
     "text": [
      "\n",
      "=== Subject Popularity Over Time ===\n"
     ]
    },
    {
     "data": {
      "image/png": "[encoded data removed]",
      "text/plain": [
       "<Figure size 1200x600 with 1 Axes>"
      ]
     },
     "metadata": {},
     "output_type": "display_data"
    }
   ],
   "source": [
    "# Subject popularity over time\n",
    "print(\"\\n=== Subject Popularity Over Time ===\")\n",
    "subject_yearly = df.groupby(['published_timestamp', 'subject']).size().unstack()\n",
    "subject_yearly.plot(kind='area', stacked=True, figsize=(12, 6))\n",
    "plt.title('Course Subjects by Publication Year')\n",
    "plt.show()"
   ]
  }
 ],
 "metadata": {
  "kernelspec": {
   "display_name": "base",
   "language": "python",
   "name": "python3"
  },
  "language_info": {
   "codemirror_mode": {
    "name": "ipython",
    "version": 3
   },
   "file_extension": ".py",
   "mimetype": "text/x-python",
   "name": "python",
   "nbconvert_exporter": "python",
   "pygments_lexer": "ipython3",
   "version": "3.12.7"
  }
 },
 "nbformat": 4,
 "nbformat_minor": 5
}
