{
 "cells": [
  {
   "cell_type": "markdown",
   "id": "f415d25c",
   "metadata": {},
   "source": [
    "# Sales Data Analysis with Python\n",
    "\n",
    "### (A part of Big Data Analysis)"
   ]
  },
  {
   "cell_type": "markdown",
   "id": "36070356",
   "metadata": {},
   "source": [
    "-------------"
   ]
  },
  {
   "cell_type": "markdown",
   "id": "d05eb518",
   "metadata": {},
   "source": [
    "## Restaurant Sales Dataset\n",
    "***\n",
    "Here, \n",
    "\n",
    "We have the sales data of a restaurant company from different cities (countries).\n",
    "\n",
    "This data is available in Excel file format. We are going to analyze and visualize this data."
   ]
  },
  {
   "cell_type": "markdown",
   "id": "aeb652ab",
   "metadata": {},
   "source": [
    "### Importing the Required Libraries"
   ]
  },
  {
   "cell_type": "code",
   "execution_count": null,
   "id": "c444ae4c",
   "metadata": {},
   "outputs": [],
   "source": [
    "import pandas as pd\n",
    "import matplotlib.pyplot as plt\n",
    "import seaborn as sns"
   ]
  },
  {
   "cell_type": "markdown",
   "id": "bfbe9d2e",
   "metadata": {},
   "source": [
    "### Importing the dataset"
   ]
  },
  {
   "cell_type": "code",
   "execution_count": null,
   "id": "e8aa5675",
   "metadata": {},
   "outputs": [],
   "source": [
    "data = pd.read_excel(r\"Sales_Dataset.xlsx\")"
   ]
  },
  {
   "cell_type": "code",
   "execution_count": null,
   "id": "e2edf7d3",
   "metadata": {},
   "outputs": [],
   "source": [
    "data"
   ]
  },
  {
   "cell_type": "code",
   "execution_count": null,
   "id": "594e7010",
   "metadata": {},
   "outputs": [],
   "source": [
    "data.info()                                      # to show some basic informations about the dataset"
   ]
  },
  {
   "cell_type": "markdown",
   "id": "78cb2349",
   "metadata": {},
   "source": [
    "#### Drop Unwanted Column"
   ]
  },
  {
   "cell_type": "code",
   "execution_count": null,
   "id": "432abc8e",
   "metadata": {},
   "outputs": [],
   "source": [
    "data.drop(columns='Unnamed: 0', inplace=True)         # to drop the column from the dataframe"
   ]
  },
  {
   "cell_type": "code",
   "execution_count": null,
   "id": "0fb87bef",
   "metadata": {
    "scrolled": true
   },
   "outputs": [],
   "source": [
    "data.head()                                           # to show top 5 records of the dataframe"
   ]
  },
  {
   "cell_type": "markdown",
   "id": "0a66210e",
   "metadata": {},
   "source": [
    "#### Changing the columns names"
   ]
  },
  {
   "cell_type": "code",
   "execution_count": null,
   "id": "08cebb64",
   "metadata": {},
   "outputs": [],
   "source": [
    "data.loc[0]                               # using the loc function to show Ist row values"
   ]
  },
  {
   "cell_type": "code",
   "execution_count": null,
   "id": "2567c0f5",
   "metadata": {},
   "outputs": [],
   "source": [
    "data.columns                              # to show all the column names"
   ]
  },
  {
   "cell_type": "code",
   "execution_count": null,
   "id": "2456b08c",
   "metadata": {},
   "outputs": [],
   "source": [
    "data.columns = data.loc[0]                # changing all the column names"
   ]
  },
  {
   "cell_type": "code",
   "execution_count": null,
   "id": "d7235d74",
   "metadata": {},
   "outputs": [],
   "source": [
    "data.head()"
   ]
  },
  {
   "cell_type": "markdown",
   "id": "eca3df00",
   "metadata": {},
   "source": [
    "#### Drop the unwanted Ist row"
   ]
  },
  {
   "cell_type": "code",
   "execution_count": null,
   "id": "0e9156f6",
   "metadata": {},
   "outputs": [],
   "source": [
    "data.drop(0, inplace=True)                     # to delete the first row from the dataframe"
   ]
  },
  {
   "cell_type": "code",
   "execution_count": null,
   "id": "ddecdb21",
   "metadata": {},
   "outputs": [],
   "source": [
    "data"
   ]
  },
  {
   "cell_type": "code",
   "execution_count": null,
   "id": "5a236fea",
   "metadata": {},
   "outputs": [],
   "source": [
    "data.info()                               # to show some basic informations about the dataset"
   ]
  },
  {
   "cell_type": "markdown",
   "id": "f79333dd",
   "metadata": {},
   "source": [
    "#### Consider the Manager column"
   ]
  },
  {
   "cell_type": "code",
   "execution_count": null,
   "id": "787a6c17",
   "metadata": {},
   "outputs": [],
   "source": [
    "data.head()"
   ]
  },
  {
   "cell_type": "code",
   "execution_count": null,
   "id": "6df9623a",
   "metadata": {},
   "outputs": [],
   "source": [
    "data.Manager"
   ]
  },
  {
   "cell_type": "code",
   "execution_count": null,
   "id": "84b2feac",
   "metadata": {},
   "outputs": [],
   "source": [
    "data.Manager.unique()                     # to show all the unique values of the column"
   ]
  },
  {
   "cell_type": "code",
   "execution_count": null,
   "id": "c69a90e0",
   "metadata": {},
   "outputs": [],
   "source": [
    "data.Manager.nunique()                      # to show count of unique values present in the column"
   ]
  },
  {
   "cell_type": "code",
   "execution_count": null,
   "id": "602a21a8",
   "metadata": {},
   "outputs": [],
   "source": [
    "data['Manager'] = data['Manager'].str.strip().str.replace(r'\\s+', ' ', regex=True)   # to remove extra spaces in names"
   ]
  },
  {
   "cell_type": "code",
   "execution_count": null,
   "id": "8fb10371",
   "metadata": {},
   "outputs": [],
   "source": [
    "data.head(20)"
   ]
  },
  {
   "cell_type": "code",
   "execution_count": null,
   "id": "00b0062a",
   "metadata": {},
   "outputs": [],
   "source": [
    "data['Manager'].unique()             # to show all the unique values of the column"
   ]
  },
  {
   "cell_type": "code",
   "execution_count": null,
   "id": "63af19b1",
   "metadata": {},
   "outputs": [],
   "source": [
    "data['Manager'].nunique()             # to show count of unique values present in the column"
   ]
  },
  {
   "cell_type": "markdown",
   "id": "179cccf8",
   "metadata": {},
   "source": [
    "#### Removing the duplicate records"
   ]
  },
  {
   "cell_type": "code",
   "execution_count": null,
   "id": "5da24ce2",
   "metadata": {},
   "outputs": [],
   "source": [
    "data.head()                     # to show top 5 records of the dataframe"
   ]
  },
  {
   "cell_type": "code",
   "execution_count": null,
   "id": "6d0f0717",
   "metadata": {},
   "outputs": [],
   "source": [
    "data.describe()                            # to show some summary about the columns"
   ]
  },
  {
   "cell_type": "code",
   "execution_count": null,
   "id": "cf960df9",
   "metadata": {},
   "outputs": [],
   "source": [
    "data[data.duplicated()]                    # to show all the duplicate records"
   ]
  },
  {
   "cell_type": "code",
   "execution_count": null,
   "id": "2e46ce59",
   "metadata": {},
   "outputs": [],
   "source": [
    "data.drop_duplicates(inplace=True)         # to remove the duplicate records"
   ]
  },
  {
   "cell_type": "code",
   "execution_count": null,
   "id": "4c1bfa1f",
   "metadata": {},
   "outputs": [],
   "source": [
    "data[data.duplicated()]                    # to check the duplicate records"
   ]
  },
  {
   "cell_type": "code",
   "execution_count": null,
   "id": "db3d6624",
   "metadata": {},
   "outputs": [],
   "source": [
    "data.describe()                            # to show some summary about the columns"
   ]
  },
  {
   "cell_type": "code",
   "execution_count": null,
   "id": "307027f9",
   "metadata": {},
   "outputs": [],
   "source": [
    "data[data['Order ID'].duplicated()]        # to check the duplicate records in a column"
   ]
  },
  {
   "cell_type": "code",
   "execution_count": null,
   "id": "1c1dd1d7",
   "metadata": {},
   "outputs": [],
   "source": [
    "data[data['Order ID'] == 10483]            # using filtering to show some records"
   ]
  },
  {
   "cell_type": "code",
   "execution_count": null,
   "id": "721c8f58",
   "metadata": {},
   "outputs": [],
   "source": [
    "data[data['Order ID'] == 10484]            # using filtering to show some records"
   ]
  },
  {
   "cell_type": "code",
   "execution_count": null,
   "id": "fe0e06e6",
   "metadata": {},
   "outputs": [],
   "source": [
    "data[data['Order ID'] == 10485]           # using filtering to show some records"
   ]
  },
  {
   "cell_type": "code",
   "execution_count": null,
   "id": "3ab61262",
   "metadata": {},
   "outputs": [],
   "source": [
    "data.drop(32, inplace=True)               # to remove any row with the index number"
   ]
  },
  {
   "cell_type": "code",
   "execution_count": null,
   "id": "010c33dc",
   "metadata": {},
   "outputs": [],
   "source": [
    "data[data['Order ID'] == 10483]"
   ]
  },
  {
   "cell_type": "code",
   "execution_count": null,
   "id": "57baba42",
   "metadata": {},
   "outputs": [],
   "source": [
    "data.drop([33, 34], inplace=True)         # to remove one or more rows with the index numbers"
   ]
  },
  {
   "cell_type": "code",
   "execution_count": null,
   "id": "dd91ec6a",
   "metadata": {},
   "outputs": [],
   "source": [
    "data[data['Order ID'] == 10484]"
   ]
  },
  {
   "cell_type": "code",
   "execution_count": null,
   "id": "b208afce",
   "metadata": {},
   "outputs": [],
   "source": [
    "data[data['Order ID'] == 10485]"
   ]
  },
  {
   "cell_type": "code",
   "execution_count": null,
   "id": "3e849fbc",
   "metadata": {},
   "outputs": [],
   "source": [
    "data[data['Order ID'].duplicated()]             # to check the duplicate records in a column"
   ]
  },
  {
   "cell_type": "code",
   "execution_count": null,
   "id": "22ef3e7f",
   "metadata": {},
   "outputs": [],
   "source": [
    "data"
   ]
  },
  {
   "cell_type": "markdown",
   "id": "0b47713a",
   "metadata": {},
   "source": [
    "#### Converting the datatype of columns"
   ]
  },
  {
   "cell_type": "code",
   "execution_count": null,
   "id": "9d86aeab",
   "metadata": {},
   "outputs": [],
   "source": [
    "data.info()                               # to get some basic info about the dataframe"
   ]
  },
  {
   "cell_type": "code",
   "execution_count": null,
   "id": "d557d88c",
   "metadata": {},
   "outputs": [],
   "source": [
    "data.Quantity = data.Quantity.astype(float)  # to change the datatype of a column"
   ]
  },
  {
   "cell_type": "code",
   "execution_count": null,
   "id": "c523e4b1",
   "metadata": {},
   "outputs": [],
   "source": [
    "data.info()                                  # to get some basic info about the dataframe"
   ]
  },
  {
   "cell_type": "code",
   "execution_count": null,
   "id": "6ba55f7b",
   "metadata": {},
   "outputs": [],
   "source": [
    "data.Quantity = data.Quantity.round()              # to round-off the values of a column"
   ]
  },
  {
   "cell_type": "code",
   "execution_count": null,
   "id": "fd42f09d",
   "metadata": {},
   "outputs": [],
   "source": [
    "data.Quantity"
   ]
  },
  {
   "cell_type": "code",
   "execution_count": null,
   "id": "03c43020",
   "metadata": {},
   "outputs": [],
   "source": [
    "data.Quantity = data.Quantity.astype(int)             # to change the datatype of a column"
   ]
  },
  {
   "cell_type": "code",
   "execution_count": null,
   "id": "1030c320",
   "metadata": {},
   "outputs": [],
   "source": [
    "data['Quantity']"
   ]
  },
  {
   "cell_type": "code",
   "execution_count": null,
   "id": "6b36d8c9",
   "metadata": {},
   "outputs": [],
   "source": [
    "data['Order ID'] = data['Order ID'].astype(int)        # to change the datatype of a column\n",
    "data['Price'] = data['Price'].astype(float)            # to change the datatype of a column"
   ]
  },
  {
   "cell_type": "code",
   "execution_count": null,
   "id": "c234fd33",
   "metadata": {},
   "outputs": [],
   "source": [
    "data.info()                                       # to get some basic info about the dataframe"
   ]
  },
  {
   "cell_type": "code",
   "execution_count": null,
   "id": "3bb709ac",
   "metadata": {},
   "outputs": [],
   "source": [
    "data.Date = pd.to_datetime(data.Date)          # to convert the datatype into datetime format"
   ]
  },
  {
   "cell_type": "code",
   "execution_count": null,
   "id": "2c171a52",
   "metadata": {},
   "outputs": [],
   "source": [
    "data.Date.dtype                                # to check the datatype of any column"
   ]
  },
  {
   "cell_type": "code",
   "execution_count": null,
   "id": "5707f22a",
   "metadata": {},
   "outputs": [],
   "source": [
    "data.info()"
   ]
  },
  {
   "cell_type": "code",
   "execution_count": null,
   "id": "b3c800e4",
   "metadata": {
    "scrolled": false
   },
   "outputs": [],
   "source": [
    "data"
   ]
  },
  {
   "cell_type": "markdown",
   "id": "b6344235",
   "metadata": {},
   "source": [
    "----------"
   ]
  },
  {
   "cell_type": "markdown",
   "id": "b4790eb3",
   "metadata": {},
   "source": [
    "# Analyzing the Data"
   ]
  },
  {
   "cell_type": "markdown",
   "id": "262f68c3",
   "metadata": {},
   "source": [
    "#### Q.1) Most Preferred Payment Method ?"
   ]
  },
  {
   "cell_type": "code",
   "execution_count": null,
   "id": "ca8e84b1",
   "metadata": {},
   "outputs": [],
   "source": [
    "data.head()                       # to show top 5 records of the dataframe"
   ]
  },
  {
   "cell_type": "code",
   "execution_count": null,
   "id": "c5a7764a",
   "metadata": {},
   "outputs": [],
   "source": [
    "data['Payment Method'].unique()                       # to show the unique values of a column"
   ]
  },
  {
   "cell_type": "code",
   "execution_count": null,
   "id": "05c2d574",
   "metadata": {},
   "outputs": [],
   "source": [
    "data['Payment Method'].nunique()                      # to show the count of unique values in a column"
   ]
  },
  {
   "cell_type": "code",
   "execution_count": null,
   "id": "a1a9d1c0",
   "metadata": {},
   "outputs": [],
   "source": [
    "data['Payment Method'].value_counts()                 # to show the unique values of a column with their counts"
   ]
  },
  {
   "cell_type": "code",
   "execution_count": null,
   "id": "f4824366",
   "metadata": {},
   "outputs": [],
   "source": [
    "data['Payment Method'].value_counts(normalize=True)*100    # to get the result in percentage"
   ]
  },
  {
   "cell_type": "code",
   "execution_count": null,
   "id": "9bd23a61",
   "metadata": {
    "scrolled": false
   },
   "outputs": [],
   "source": [
    "data['Payment Method'].value_counts().plot(kind='bar') ;   # to draw the bar graph"
   ]
  },
  {
   "cell_type": "markdown",
   "id": "d840b4e7",
   "metadata": {},
   "source": [
    "#### Q.2) Most Selling Product ?\n",
    "- By Quantity\n",
    "- By Revenue\n"
   ]
  },
  {
   "cell_type": "markdown",
   "id": "25934361",
   "metadata": {},
   "source": [
    "#### By Quantity"
   ]
  },
  {
   "cell_type": "code",
   "execution_count": null,
   "id": "f8ba52c9",
   "metadata": {},
   "outputs": [],
   "source": [
    "data.head()"
   ]
  },
  {
   "cell_type": "code",
   "execution_count": null,
   "id": "09786bb2",
   "metadata": {},
   "outputs": [],
   "source": [
    "data.groupby('Product')['Quantity'].sum()            # to make the group of unique values of a column"
   ]
  },
  {
   "cell_type": "code",
   "execution_count": null,
   "id": "3a8a968f",
   "metadata": {},
   "outputs": [],
   "source": [
    "data.groupby('Product')['Quantity'].sum().sort_values(ascending=False)   # to sort the result"
   ]
  },
  {
   "cell_type": "code",
   "execution_count": null,
   "id": "c278f257",
   "metadata": {},
   "outputs": [],
   "source": [
    "most_quantity = data.groupby('Product')['Quantity'].sum().sort_values(ascending=False)\n",
    "most_quantity"
   ]
  },
  {
   "cell_type": "code",
   "execution_count": null,
   "id": "d568d297",
   "metadata": {},
   "outputs": [],
   "source": [
    "type(most_quantity)                   # to the type of the variable"
   ]
  },
  {
   "cell_type": "code",
   "execution_count": null,
   "id": "8f2cd067",
   "metadata": {},
   "outputs": [],
   "source": [
    "most_quantity = most_quantity.reset_index()     # To convert the index of a Series into a column to form a DataFrame\n",
    "most_quantity"
   ]
  },
  {
   "cell_type": "code",
   "execution_count": null,
   "id": "10559897",
   "metadata": {},
   "outputs": [],
   "source": [
    "type(most_quantity)                   # to the type of the variable"
   ]
  },
  {
   "cell_type": "code",
   "execution_count": null,
   "id": "24c62f8c",
   "metadata": {},
   "outputs": [],
   "source": [
    "plt.figure(figsize = (9,4))\n",
    "plt.bar(most_quantity['Product'], most_quantity['Quantity'], color = ['red', 'black', 'green', 'yellow', 'cyan'], width=0.4)\n",
    "plt.title(\"Most Selling Product - By Quantity\")              \n",
    "plt.xlabel(\"Product\")\n",
    "plt.ylabel(\"Quantity\");"
   ]
  },
  {
   "cell_type": "markdown",
   "id": "d15b937d",
   "metadata": {},
   "source": [
    "#### By Revenue"
   ]
  },
  {
   "cell_type": "code",
   "execution_count": null,
   "id": "944bb296",
   "metadata": {},
   "outputs": [],
   "source": [
    "data.head()"
   ]
  },
  {
   "cell_type": "code",
   "execution_count": null,
   "id": "e07f0417",
   "metadata": {},
   "outputs": [],
   "source": [
    "data['Revenue'] = data['Price'] * data['Quantity']       # to create a new column 'Revenue'"
   ]
  },
  {
   "cell_type": "code",
   "execution_count": null,
   "id": "30cf8030",
   "metadata": {},
   "outputs": [],
   "source": [
    "data"
   ]
  },
  {
   "cell_type": "code",
   "execution_count": null,
   "id": "a0a90efe",
   "metadata": {},
   "outputs": [],
   "source": [
    "data.groupby('Product')['Revenue'].sum().sort_values(ascending = False) # to make the group of unique values of a column"
   ]
  },
  {
   "cell_type": "code",
   "execution_count": null,
   "id": "b976689e",
   "metadata": {},
   "outputs": [],
   "source": [
    "most_revenue = data.groupby('Product')['Revenue'].sum().sort_values(ascending = False)\n",
    "most_revenue"
   ]
  },
  {
   "cell_type": "code",
   "execution_count": null,
   "id": "a821654b",
   "metadata": {},
   "outputs": [],
   "source": [
    "most_revenue = most_revenue.reset_index()\n",
    "most_revenue"
   ]
  },
  {
   "cell_type": "code",
   "execution_count": null,
   "id": "7e389da0",
   "metadata": {},
   "outputs": [],
   "source": [
    "plt.figure(figsize=(9, 4))\n",
    "plt.bar(most_revenue['Product'], most_revenue['Revenue'], color = ['green', 'red', 'black', 'yellow', 'cyan'], width = 0.3);\n",
    "plt.title(\"Most Selling Product - By Revenue\")       # setting the title       \n",
    "plt.xlabel(\"Product\")                                # setting the x-axis label\n",
    "plt.ylabel(\"Revenue\");                               # setting the y-axis label"
   ]
  },
  {
   "cell_type": "markdown",
   "id": "d0be5e75",
   "metadata": {},
   "source": [
    "#### Q.3) Which city had maximum revenue\n",
    "##### or\n",
    "##### Which Manager earned maximum revenue"
   ]
  },
  {
   "cell_type": "code",
   "execution_count": null,
   "id": "7da95351",
   "metadata": {},
   "outputs": [],
   "source": [
    "data"
   ]
  },
  {
   "cell_type": "code",
   "execution_count": null,
   "id": "abe1f59a",
   "metadata": {},
   "outputs": [],
   "source": [
    "data.City.unique()                       # to check the unique values of the column 'City'"
   ]
  },
  {
   "cell_type": "code",
   "execution_count": null,
   "id": "7635f2cb",
   "metadata": {},
   "outputs": [],
   "source": [
    "data.City.nunique()                      # to check the count of unique values of the column 'City'"
   ]
  },
  {
   "cell_type": "code",
   "execution_count": null,
   "id": "0922cff2",
   "metadata": {},
   "outputs": [],
   "source": [
    "data.groupby('City')['Revenue'].sum().sort_values(ascending=False)   # using groupby on 'City' & 'Revenue' column"
   ]
  },
  {
   "cell_type": "code",
   "execution_count": null,
   "id": "71404729",
   "metadata": {},
   "outputs": [],
   "source": [
    "data.Manager.nunique()                   # to check the count of unique values of the column 'Manager'"
   ]
  },
  {
   "cell_type": "code",
   "execution_count": null,
   "id": "bcb74df3",
   "metadata": {},
   "outputs": [],
   "source": [
    "data.Manager.unique()                   # to check the unique values of the column 'Manager'"
   ]
  },
  {
   "cell_type": "code",
   "execution_count": null,
   "id": "bc92a0ef",
   "metadata": {},
   "outputs": [],
   "source": [
    "data.groupby('Manager')['Revenue'].sum().sort_values(ascending=False)   # using groupby on 'Manager' & 'Revenue' column"
   ]
  },
  {
   "cell_type": "markdown",
   "id": "755c61a8",
   "metadata": {},
   "source": [
    "#### Q.4) Date wise revenue"
   ]
  },
  {
   "cell_type": "code",
   "execution_count": null,
   "id": "ac989469",
   "metadata": {},
   "outputs": [],
   "source": [
    "data.head()"
   ]
  },
  {
   "cell_type": "code",
   "execution_count": null,
   "id": "231c93f4",
   "metadata": {},
   "outputs": [],
   "source": [
    "data.Date.dtype"
   ]
  },
  {
   "cell_type": "code",
   "execution_count": null,
   "id": "f9070b75",
   "metadata": {},
   "outputs": [],
   "source": [
    "data.info()"
   ]
  },
  {
   "cell_type": "code",
   "execution_count": null,
   "id": "b90cea4c",
   "metadata": {},
   "outputs": [],
   "source": [
    "data.plot('Date', 'Revenue', color='red', linewidth=2, figsize=(9,4)) \n",
    "plt.title(\"Date wise Revenue\")                        # setting the title\n",
    "plt.xlabel(\"Date\")                                    # setting the x-axis label\n",
    "plt.ylabel(\"Revenue\")                                 # setting the y-axis label\n",
    "plt.show()"
   ]
  },
  {
   "cell_type": "markdown",
   "id": "7829ee30",
   "metadata": {},
   "source": [
    "#### Q.5) Average Revenue"
   ]
  },
  {
   "cell_type": "code",
   "execution_count": null,
   "id": "a6c202aa",
   "metadata": {},
   "outputs": [],
   "source": [
    "data.head()"
   ]
  },
  {
   "cell_type": "code",
   "execution_count": null,
   "id": "df87b856",
   "metadata": {},
   "outputs": [],
   "source": [
    "data['Revenue'].mean()"
   ]
  },
  {
   "cell_type": "markdown",
   "id": "9c728b58",
   "metadata": {},
   "source": [
    "#### Q.6) Average Revenue of November & December month"
   ]
  },
  {
   "cell_type": "code",
   "execution_count": null,
   "id": "eaa5c329",
   "metadata": {},
   "outputs": [],
   "source": [
    "data.head()"
   ]
  },
  {
   "cell_type": "code",
   "execution_count": null,
   "id": "7d2335c3",
   "metadata": {},
   "outputs": [],
   "source": [
    "data['Month'] = data['Date'].dt.month              # creating a new column showing Month only"
   ]
  },
  {
   "cell_type": "code",
   "execution_count": null,
   "id": "d29dfda0",
   "metadata": {},
   "outputs": [],
   "source": [
    "data"
   ]
  },
  {
   "cell_type": "code",
   "execution_count": null,
   "id": "c1c866de",
   "metadata": {},
   "outputs": [],
   "source": [
    "m11 = data[data['Month'] == 11]          # filtering the records with month '11'\n",
    "m11"
   ]
  },
  {
   "cell_type": "code",
   "execution_count": null,
   "id": "653692bf",
   "metadata": {},
   "outputs": [],
   "source": [
    "m11.Revenue.mean()                           # to show the mean revenue"
   ]
  },
  {
   "cell_type": "code",
   "execution_count": null,
   "id": "957f6a59",
   "metadata": {},
   "outputs": [],
   "source": [
    "m12 = data[data.Month == 12]                  # filtering the records with month '12'\n",
    "m12"
   ]
  },
  {
   "cell_type": "code",
   "execution_count": null,
   "id": "a04d7a38",
   "metadata": {},
   "outputs": [],
   "source": [
    "m12.Revenue.mean()                                  # to show the mean revenue"
   ]
  },
  {
   "cell_type": "markdown",
   "id": "8582111b",
   "metadata": {},
   "source": [
    "#### Q.7) Standard Deviation of Revenue and Quantity ?"
   ]
  },
  {
   "cell_type": "code",
   "execution_count": null,
   "id": "89a03c5a",
   "metadata": {},
   "outputs": [],
   "source": [
    "data['Quantity'].std()"
   ]
  },
  {
   "cell_type": "code",
   "execution_count": null,
   "id": "c6276deb",
   "metadata": {},
   "outputs": [],
   "source": [
    "data['Revenue'].std()"
   ]
  },
  {
   "cell_type": "markdown",
   "id": "94c1fe80",
   "metadata": {},
   "source": [
    "#### Q.8) Variance of Revenue and Quantity ?"
   ]
  },
  {
   "cell_type": "code",
   "execution_count": null,
   "id": "d0d060c1",
   "metadata": {},
   "outputs": [],
   "source": [
    "data['Quantity'].var()"
   ]
  },
  {
   "cell_type": "code",
   "execution_count": null,
   "id": "f15935a1",
   "metadata": {},
   "outputs": [],
   "source": [
    "data['Revenue'].var()"
   ]
  },
  {
   "cell_type": "markdown",
   "id": "938f9b4f",
   "metadata": {},
   "source": [
    "#### Q.9) Is revenue increasing or decreasing over time?"
   ]
  },
  {
   "cell_type": "code",
   "execution_count": null,
   "id": "e7a230e3",
   "metadata": {},
   "outputs": [],
   "source": [
    "data.head()"
   ]
  },
  {
   "cell_type": "code",
   "execution_count": null,
   "id": "45d08a5e",
   "metadata": {},
   "outputs": [],
   "source": [
    "m11 = data[data['Month'] == 11]          # filtering the records with month '11'\n",
    "m11"
   ]
  },
  {
   "cell_type": "code",
   "execution_count": null,
   "id": "f67f1316",
   "metadata": {},
   "outputs": [],
   "source": [
    "m11['Revenue'].sum()"
   ]
  },
  {
   "cell_type": "code",
   "execution_count": null,
   "id": "a910fc22",
   "metadata": {},
   "outputs": [],
   "source": [
    "m12 = data[data.Month == 12]                  # filtering the records with month '12'\n",
    "m12"
   ]
  },
  {
   "cell_type": "code",
   "execution_count": null,
   "id": "99d3b811",
   "metadata": {},
   "outputs": [],
   "source": [
    "m12.Revenue.sum()"
   ]
  },
  {
   "cell_type": "markdown",
   "id": "33d664ec",
   "metadata": {},
   "source": [
    "#### Q.10) Average 'Quantity Sold' & 'Average Revenue' for each product ?"
   ]
  },
  {
   "cell_type": "code",
   "execution_count": null,
   "id": "644fc9b7",
   "metadata": {},
   "outputs": [],
   "source": [
    "data.head()"
   ]
  },
  {
   "cell_type": "code",
   "execution_count": null,
   "id": "8532c203",
   "metadata": {},
   "outputs": [],
   "source": [
    "data.groupby('Product').agg({'Quantity':'mean', 'Revenue':'mean'})"
   ]
  },
  {
   "cell_type": "code",
   "execution_count": null,
   "id": "5bb764d3",
   "metadata": {},
   "outputs": [],
   "source": []
  }
 ],
 "metadata": {
  "kernelspec": {
   "display_name": "base",
   "language": "python",
   "name": "python3"
  },
  "language_info": {
   "codemirror_mode": {
    "name": "ipython",
    "version": 3
   },
   "file_extension": ".py",
   "mimetype": "text/x-python",
   "name": "python",
   "nbconvert_exporter": "python",
   "pygments_lexer": "ipython3",
   "version": "3.12.7"
  }
 },
 "nbformat": 4,
 "nbformat_minor": 5
}
